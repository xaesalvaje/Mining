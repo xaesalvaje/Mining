{
 "cells": [
  {
   "cell_type": "code",
   "execution_count": 6,
   "metadata": {},
   "outputs": [
    {
     "name": "stderr",
     "output_type": "stream",
     "text": [
      "283.59s - pydevd: Sending message related to process being replaced timed-out after 5 seconds\n"
     ]
    },
    {
     "name": "stdout",
     "output_type": "stream",
     "text": [
      "Requirement already satisfied: NumPy>=1.17.3 in ./.venv/lib/python3.8/site-packages (from -r requirements.txt (line 1)) (1.24.2)\n",
      "Requirement already satisfied: SciPy>=1.3.2 in ./.venv/lib/python3.8/site-packages (from -r requirements.txt (line 2)) (1.10.1)\n",
      "Requirement already satisfied: joblib>=1.1.1 in ./.venv/lib/python3.8/site-packages (from -r requirements.txt (line 3)) (1.2.0)\n",
      "Requirement already satisfied: threadpoolctl>=2.0.0 in ./.venv/lib/python3.8/site-packages (from -r requirements.txt (line 4)) (3.1.0)\n",
      "Collecting scikit-learn\n",
      "  Downloading scikit_learn-1.2.2-cp38-cp38-macosx_10_9_x86_64.whl (9.0 MB)\n",
      "\u001b[2K     \u001b[90m━━━━━━━━━━━━━━━━━━━━━━━━━━━━━━━━━━━━━━━━\u001b[0m \u001b[32m9.0/9.0 MB\u001b[0m \u001b[31m22.2 MB/s\u001b[0m eta \u001b[36m0:00:00\u001b[0m00:01\u001b[0m00:01\u001b[0m\n",
      "\u001b[?25hRequirement already satisfied: scipy in ./.venv/lib/python3.8/site-packages (1.10.1)\n",
      "Requirement already satisfied: numpy in ./.venv/lib/python3.8/site-packages (1.24.2)\n",
      "Requirement already satisfied: pandas in ./.venv/lib/python3.8/site-packages (2.0.0)\n",
      "Requirement already satisfied: matplotlib in ./.venv/lib/python3.8/site-packages (3.7.1)\n",
      "Requirement already satisfied: seaborn in ./.venv/lib/python3.8/site-packages (0.12.2)\n",
      "Requirement already satisfied: sklearn in ./.venv/lib/python3.8/site-packages (0.0.post4)\n",
      "Requirement already satisfied: joblib>=1.1.1 in ./.venv/lib/python3.8/site-packages (from scikit-learn) (1.2.0)\n",
      "Requirement already satisfied: threadpoolctl>=2.0.0 in ./.venv/lib/python3.8/site-packages (from scikit-learn) (3.1.0)\n",
      "Requirement already satisfied: python-dateutil>=2.8.2 in ./.venv/lib/python3.8/site-packages (from pandas) (2.8.2)\n",
      "Requirement already satisfied: pytz>=2020.1 in ./.venv/lib/python3.8/site-packages (from pandas) (2023.3)\n",
      "Requirement already satisfied: tzdata>=2022.1 in ./.venv/lib/python3.8/site-packages (from pandas) (2023.3)\n",
      "Requirement already satisfied: contourpy>=1.0.1 in ./.venv/lib/python3.8/site-packages (from matplotlib) (1.0.7)\n",
      "Requirement already satisfied: cycler>=0.10 in ./.venv/lib/python3.8/site-packages (from matplotlib) (0.11.0)\n",
      "Requirement already satisfied: fonttools>=4.22.0 in ./.venv/lib/python3.8/site-packages (from matplotlib) (4.39.3)\n",
      "Requirement already satisfied: kiwisolver>=1.0.1 in ./.venv/lib/python3.8/site-packages (from matplotlib) (1.4.4)\n",
      "Requirement already satisfied: packaging>=20.0 in ./.venv/lib/python3.8/site-packages (from matplotlib) (23.1)\n",
      "Requirement already satisfied: pillow>=6.2.0 in ./.venv/lib/python3.8/site-packages (from matplotlib) (9.5.0)\n",
      "Requirement already satisfied: pyparsing>=2.3.1 in ./.venv/lib/python3.8/site-packages (from matplotlib) (3.0.9)\n",
      "Requirement already satisfied: importlib-resources>=3.2.0 in ./.venv/lib/python3.8/site-packages (from matplotlib) (5.12.0)\n",
      "Requirement already satisfied: zipp>=3.1.0 in ./.venv/lib/python3.8/site-packages (from importlib-resources>=3.2.0->matplotlib) (3.15.0)\n",
      "Requirement already satisfied: six>=1.5 in ./.venv/lib/python3.8/site-packages (from python-dateutil>=2.8.2->pandas) (1.16.0)\n",
      "Installing collected packages: scikit-learn\n",
      "Successfully installed scikit-learn-1.2.2\n"
     ]
    }
   ],
   "source": [
    "!pip install -r requirements.txt && pip install scikit-learn scipy numpy pandas matplotlib seaborn sklearn"
   ]
  },
  {
   "cell_type": "code",
   "execution_count": 35,
   "metadata": {},
   "outputs": [],
   "source": [
    "import random\n",
    "import time\n",
    "import numpy as np\n",
    "import pandas as pd\n",
    "import sklearn\n",
    "import matplotlib.pyplot as plt\n",
    "import seaborn as sns\n",
    "from sklearn.preprocessing import OneHotEncoder\n",
    "from sklearn.linear_model import LinearRegression\n",
    "from sklearn.model_selection import train_test_split\n"
   ]
  },
  {
   "cell_type": "code",
   "execution_count": 36,
   "metadata": {},
   "outputs": [],
   "source": [
    "\n",
    "# Define the mining function\n",
    "def mine_cryptocurrency(crypto):\n",
    "    # Simulate a random mining time between 5 and 15 seconds\n",
    "    mining_time = random.randint(5, 15)\n",
    "    print(f\"Mining {crypto} cryptocurrency for {mining_time} seconds...\")\n",
    "    time.sleep(mining_time)\n",
    "    print(f\"{crypto} mining completed!\")\n"
   ]
  },
  {
   "cell_type": "code",
   "execution_count": 54,
   "metadata": {},
   "outputs": [],
   "source": [
    "# Import required libraries\n",
    "import pandas as pd\n",
    "from sklearn.preprocessing import OneHotEncoder, LabelEncoder\n",
    "from sklearn.model_selection import train_test_split\n",
    "from sklearn.linear_model import LinearRegression\n",
    "import seaborn as sns\n",
    "import matplotlib.pyplot as plt\n",
    "\n",
    "# Define the mining function\n",
    "def mine_cryptocurrency(crypto):\n",
    "    print(f\"Mining {crypto} cryptocurrency...\")\n",
    "\n",
    "# Define the main function\n",
    "def main():\n",
    "    # Display a welcome message\n",
    "    print(\"Welcome to the advanced AI Crypto Mining bot!\")\n",
    "    # Load the historical cryptocurrency data\n",
    "    file_names = ['coin_Aave.csv', 'coin_BinanceCoin.csv', 'coin_Bitcoin.csv', 'coin_Cardano.csv', 'coin_ChainLink.csv', 'coin_Cosmos.csv', 'coin_CryptocomCoin.csv',  'coin_Dogecoin.csv', 'coin_EOS.csv', 'coin_Ethereum.csv', 'coin_Iota.csv', 'coin_Litecoin.csv', 'coin_Monero.csv', 'coin_NEM.csv', 'coin_Polkadot.csv', 'coin_Solana.csv', 'coin_Stellar.csv', 'coin_Tether.csv', 'coin_Tron.csv', 'coin_Uniswap.csv', 'coin_USDCoin.csv', 'coin_WrappedBitcoin.csv', 'coin_XRP.csv']\n",
    "    # Load each CSV file into a separate DataFrame and append it to the list\n",
    "    data_frames = [pd.read_csv(file_name) for file_name in file_names]\n",
    "    # Concatenate the DataFrames into a single DataFrame\n",
    "    df = pd.concat(data_frames)\n",
    "    # Reset the index of the DataFrame\n",
    "    df = df.reset_index(drop=True)\n",
    "    # Encode the Name column using one-hot encoding\n",
    "    encoder = OneHotEncoder()\n",
    "    name_encoded = encoder.fit_transform(df[[\"Name\"]]).toarray()\n",
    "    df_encoded = pd.concat([df, pd.DataFrame(name_encoded, columns=encoder.get_feature_names_out([\"Name\"]))], axis=1)\n",
    "    # Drop the original Name column and the last column of the encoded DataFrame\n",
    "    df_encoded = df_encoded.drop([\"Name\", df_encoded.columns[-1]], axis=1)\n",
    "    # Encode the Target variable using label encoding\n",
    "    label_encoder = LabelEncoder()\n",
    "    y = label_encoder.fit_transform(df_encoded[\"Symbol\"])\n",
    "    df_encoded[\"Symbol\"] = y\n",
    "    # Split the data into training and testing sets\n",
    "    X_train, X_test, y_train, y_test = train_test_split(\n",
    "        df_encoded.iloc[:, :-1], df_encoded.iloc[:, -1], test_size=0.2, random_state=42\n",
    "    )\n",
    "    df_encoded = df_encoded.columns\n",
    "    # Train the linear regression model\n",
    "    model = LinearRegression()\n",
    "    model.fit(X_train, y_train)\n",
    "    # Predict the profitability of each cryptocurrency\n",
    "    X = df_encoded.iloc[:, :-1]\n",
    "    y = model.predict(X)\n",
    "    df_encoded[\"Profitability\"] = y\n",
    "    # Visualize the profitability of each cryptocurrency\n",
    "    sns.barplot(x=\"index\", y=\"Profitability\", data=df_encoded.reset_index())\n",
    "    plt.xticks(rotation=90)\n",
    "    plt.show()\n",
    "    # Prompt the user for the number of iterations\n",
    "    iterations = int(input(\"How many iterations do you want to run? \"))\n",
    "    # Run the mining function for the specified number of iterations\n",
    "    for i in range(iterations):\n",
    "        print(f\"Iteration {i+1}\")\n",
    "    # Select the most profitable cryptocurrency\n",
    "    crypto_encoded = label_encoder.transform([df_encoded.iloc[0][:-1]])\n",
    "    crypto = label_encoder.inverse_transform(crypto_encoded)[0]\n",
    "    mine_cryptocurrency(crypto)\n",
    "    # Display a farewell message\n",
    "    print(\"Thank you for using the advanced AI Crypto Mining bot!\")"
   ]
  },
  {
   "cell_type": "code",
   "execution_count": null,
   "metadata": {},
   "outputs": [],
   "source": [
    "\n",
    "# Run the main function\n",
    "main()\n"
   ]
  }
 ],
 "metadata": {
  "kernelspec": {
   "display_name": ".venv",
   "language": "python",
   "name": "python3"
  },
  "language_info": {
   "codemirror_mode": {
    "name": "ipython",
    "version": 3
   },
   "file_extension": ".py",
   "mimetype": "text/x-python",
   "name": "python",
   "nbconvert_exporter": "python",
   "pygments_lexer": "ipython3",
   "version": "3.8.0"
  },
  "orig_nbformat": 4
 },
 "nbformat": 4,
 "nbformat_minor": 2
}
