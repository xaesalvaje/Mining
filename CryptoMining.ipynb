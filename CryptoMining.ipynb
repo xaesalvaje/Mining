{
 "cells": [
  {
   "cell_type": "code",
   "execution_count": null,
   "metadata": {},
   "outputs": [],
   "source": [
    "!pip install -r requirements.txt"
   ]
  },
  {
   "cell_type": "code",
   "execution_count": 35,
   "metadata": {},
   "outputs": [],
   "source": [
    "import random\n",
    "import time\n",
    "import numpy as np\n",
    "import pandas as pd\n",
    "import sklearn\n",
    "import matplotlib.pyplot as plt\n",
    "import seaborn as sns\n",
    "from sklearn.preprocessing import OneHotEncoder\n",
    "from sklearn.linear_model import LinearRegression\n",
    "from sklearn.model_selection import train_test_split\n"
   ]
  },
  {
   "cell_type": "code",
   "execution_count": 36,
   "metadata": {},
   "outputs": [],
   "source": [
    "\n",
    "# Define the mining function\n",
    "def mine_cryptocurrency(crypto):\n",
    "    print(f\"Mining {crypto} cryptocurrency...\")\n",
    "\n",
    "# Define the main function\n",
    "def main():\n",
    "    # Display a welcome message\n",
    "    print(\"Welcome to the advanced AI Crypto Mining bot!\")\n",
    "    # Load the historical cryptocurrency data\n",
    "    file_names = ['coin_Aave.csv', 'coin_BinanceCoin.csv', 'coin_Bitcoin.csv', 'coin_Cardano.csv', 'coin_ChainLink.csv', 'coin_Cosmos.csv', 'coin_CryptocomCoin.csv',  'coin_Dogecoin.csv', 'coin_EOS.csv', 'coin_Ethereum.csv', 'coin_Iota.csv', 'coin_Litecoin.csv', 'coin_Monero.csv', 'coin_NEM.csv', 'coin_Polkadot.csv', 'coin_Solana.csv', 'coin_Stellar.csv', 'coin_Tether.csv', 'coin_Tron.csv', 'coin_Uniswap.csv', 'coin_USDCoin.csv', 'coin_WrappedBitcoin.csv', 'coin_XRP.csv']\n",
    "    # Load each CSV file into a separate DataFrame and append it to the list\n",
    "    data_frames = [pd.read_csv(file_name) for file_name in file_names]\n",
    "    # Concatenate the DataFrames into a single DataFrame\n",
    "    df = pd.concat(data_frames)\n",
    "    # Reset the index of the DataFrame\n",
    "    df = df.reset_index(drop=True)\n",
    "    # Encode the Name column using one-hot encoding\n",
    "    encoder = OneHotEncoder()\n",
    "    name_encoded = encoder.fit_transform(df[[\"Name\"]]).toarray()\n",
    "    df_encoded = pd.concat([df, pd.DataFrame(name_encoded, columns=encoder.get_feature_names_out([\"Name\"]))], axis=1)\n",
    "    # Drop the original Name column and the last column of the encoded DataFrame\n",
    "    df_encoded = df_encoded.drop([\"Name\", df_encoded.columns[-1]], axis=1)\n",
    "    # Encode the Target variable using label encoding\n",
    "    label_encoder = LabelEncoder()\n",
    "    y = label_encoder.fit_transform(df_encoded[\"Symbol\"])\n",
    "    df_encoded[\"Symbol\"] = y\n",
    "    # Split the data into training and testing sets\n",
    "    X_train, X_test, y_train, y_test = train_test_split(\n",
    "        df_encoded.iloc[:, :-1], df_encoded.iloc[:, -1], test_size=0.2, random_state=42\n",
    "    )\n",
    "    df_encoded = df_encoded.columns\n",
    "    # Train the linear regression model\n",
    "    model = LinearRegression()\n",
    "    model.fit(X_train, y_train)\n",
    "    # Predict the profitability of each cryptocurrency\n",
    "    X = df_encoded.iloc[:, :-1]\n",
    "    y = model.predict(X)\n",
    "    df_encoded[\"Profitability\"] = y\n",
    "    # Visualize the profitability of each cryptocurrency\n",
    "    sns.barplot(x=\"index\", y=\"Profitability\", data=df_encoded.reset_index())\n",
    "    plt.xticks(rotation=90)\n",
    "    plt.show()\n",
    "    # Prompt the user for the number of iterations\n",
    "    iterations = int(input(\"How many iterations do you want to run? \"))\n",
    "    # Run the mining function for the specified number of iterations\n",
    "    for i in range(iterations):\n",
    "        print(f\"Iteration {i+1}\")\n",
    "    # Select the most profitable cryptocurrency\n",
    "    crypto_encoded = label_encoder.transform([df_encoded.iloc[0][:-1]])\n",
    "    crypto = label_encoder.inverse_transform(crypto_encoded)[0]\n",
    "    mine_cryptocurrency(crypto)\n",
    "    # Display a farewell message\n",
    "    print(\"Thank you for using the advanced AI Crypto Mining bot!\")"
   ]
  },
  {
   "cell_type": "code",
   "execution_count": null,
   "metadata": {},
   "outputs": [],
   "source": [
    "\n",
    "# Run the main function\n",
    "main()\n"
   ]
  }
 ],
 "metadata": {
  "kernelspec": {
   "display_name": ".venv",
   "language": "python",
   "name": "python3"
  },
  "language_info": {
   "codemirror_mode": {
    "name": "ipython",
    "version": 3
   },
   "file_extension": ".py",
   "mimetype": "text/x-python",
   "name": "python",
   "nbconvert_exporter": "python",
   "pygments_lexer": "ipython3",
   "version": "3.8.0"
  },
  "orig_nbformat": 4
 },
 "nbformat": 4,
 "nbformat_minor": 2
}
